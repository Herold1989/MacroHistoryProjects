{
 "cells": [
  {
   "cell_type": "code",
   "execution_count": 61,
   "metadata": {},
   "outputs": [],
   "source": [
    "import os"
   ]
  },
  {
   "cell_type": "code",
   "execution_count": 62,
   "metadata": {},
   "outputs": [
    {
     "name": "stdout",
     "output_type": "stream",
     "text": [
      "Directory changed\n"
     ]
    }
   ],
   "source": [
    "os.chdir(r\"C:\\Users\\Herold-J\\Documents\\GitHub\\MacroHistoryProjects\")\n",
    "print(\"Directory changed\") "
   ]
  },
  {
   "cell_type": "code",
   "execution_count": 63,
   "metadata": {},
   "outputs": [],
   "source": [
    "# Import some necessary modules and packages\n",
    "\n",
    "import pandas as pd\n",
    "import numpy as np\n",
    "import seaborn as sns\n",
    "import matplotlib.pyplot as plt\n",
    "import requests\n"
   ]
  },
  {
   "cell_type": "code",
   "execution_count": 64,
   "metadata": {
    "scrolled": true
   },
   "outputs": [],
   "source": [
    "# Download always the newest version to directory\n",
    "\n",
    "url = \"http://www.macrohistory.net/JST/JSTdatasetR4.xlsx\"\n",
    "r   = requests.get(url, allow_redirects= True)\n",
    "\n",
    "output = open('JSTdatasetR4.xlsx', 'wb')\n",
    "output.write(r.content)\n",
    "output.close()\n",
    "\n",
    "# Import data\n",
    "df = pd.read_excel(\"JSTdatasetR4.xlsx\",sheet_name = \"Data\")"
   ]
  },
  {
   "cell_type": "code",
   "execution_count": null,
   "metadata": {
    "scrolled": false
   },
   "outputs": [],
   "source": [
    "# Start data preparation\n",
    "\n",
    "country_list = df[\"country\"].unique()\n",
    "\n",
    "var_list     = [\"cpi\",\"money\", \"gdp\", \"thh\",\"tbus\",\"hpnom\"]\n",
    "grouped      = df.groupby(\"country\")[var_list]\n",
    "\n",
    "new_vars     = [\"inflation\",\"money_growth\",\"gdp_growth\",\"loanHH_growth\",\"loanBus_growth\",\"HPI_growth\"]\n",
    "\n",
    "df[new_vars] = (grouped.diff(1)/grouped.shift(1))*100\n",
    "\n",
    "def windsorize(col_name,lb=1,ub=99):\n",
    "    df_out = df[col_name].copy()\n",
    "    bounds = [np.percentile(df_out.dropna(),i) for i in [lb,ub]]\n",
    "    df_out[(df_out < bounds[0]) | (df_out > bounds[1])] = np.nan\n",
    "    return df_out\n",
    "\n",
    "for item in new_vars:\n",
    "    df[item] = windsorize(item)\n",
    "    \n",
    "df[\"money_multiplier1\"] = df[\"loanHH_growth\"]/df[\"money_growth\"]    \n",
    "df[\"money_multiplier2\"] = df[\"loanBus_growth\"]/df[\"money_growth\"]    \n",
    "\n",
    "df[\"money_multiplier1\"] = windsorize(\"money_multiplier1\")\n",
    "df[\"money_multiplier2\"] = windsorize(\"money_multiplier2\")\n",
    "\n",
    "#Select period \n",
    "df = df.loc[np.logical_and(df.year >= 1948,df.year <= 2016)]\n",
    "\n",
    "\n",
    "# Plots\n",
    "\n",
    "sns.lmplot(x = \"money_growth\", y = \"inflation\", data = df, hue = \"country\",fit_reg= False)\n",
    "sns.regplot(x = \"money_growth\", y= \"inflation\", data= df, scatter= False)\n",
    "\n",
    "sns.lmplot(x = \"HPI_growth\", y = \"inflation\", data = df, hue = \"country\",fit_reg= False)\n",
    "sns.regplot(x = \"HPI_growth\", y= \"inflation\", data= df, scatter= False)\n",
    "\n",
    "sns.lmplot(x = \"loanHH_growth\", y = \"inflation\", data = df, hue = \"country\",fit_reg= False)\n",
    "sns.regplot(x = \"loanHH_growth\", y= \"inflation\", data= df, scatter= False)\n",
    "\n",
    "sns.lmplot(x = \"loanBus_growth\", y = \"inflation\", data = df, hue = \"country\",fit_reg= False)\n",
    "sns.regplot(x = \"loanBus_growth\", y= \"inflation\", data= df, scatter= False)"
   ]
  },
  {
   "cell_type": "code",
   "execution_count": null,
   "metadata": {},
   "outputs": [],
   "source": []
  },
  {
   "cell_type": "code",
   "execution_count": null,
   "metadata": {},
   "outputs": [],
   "source": []
  }
 ],
 "metadata": {
  "kernelspec": {
   "display_name": "Python 3",
   "language": "python",
   "name": "python3"
  },
  "language_info": {
   "codemirror_mode": {
    "name": "ipython",
    "version": 3
   },
   "file_extension": ".py",
   "mimetype": "text/x-python",
   "name": "python",
   "nbconvert_exporter": "python",
   "pygments_lexer": "ipython3",
   "version": "3.8.2"
  }
 },
 "nbformat": 4,
 "nbformat_minor": 4
}
